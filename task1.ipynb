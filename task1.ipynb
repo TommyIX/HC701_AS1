{
 "cells": [
  {
   "cell_type": "markdown",
   "id": "af2cf18bcb22a62a",
   "metadata": {
    "collapsed": false
   },
   "source": [
    "### HC701 Assignment #1 - Task 1\n",
    "Jinhong Wang 23010447\n",
    " \n",
    " "
   ]
  },
  {
   "cell_type": "markdown",
   "id": "da82d7a2",
   "metadata": {},
   "source": [
    "#### Extract 10 AXIAL slices from volume-covid19-A-0025.nii and save them as separate .png files"
   ]
  },
  {
   "cell_type": "code",
   "execution_count": 13,
   "id": "initial_id",
   "metadata": {
    "ExecuteTime": {
     "end_time": "2024-02-04T15:17:09.789273800Z",
     "start_time": "2024-02-04T15:17:08.938364900Z"
    },
    "collapsed": false
   },
   "outputs": [
    {
     "name": "stderr",
     "output_type": "stream",
     "text": [
      "Lossy conversion from float64 to uint8. Range [-2048.0, 1328.0]. Convert image to uint8 prior to saving to suppress this warning.\n",
      "Lossy conversion from float64 to uint8. Range [-2048.0, 1292.0]. Convert image to uint8 prior to saving to suppress this warning.\n",
      "Lossy conversion from float64 to uint8. Range [-2048.0, 1354.0]. Convert image to uint8 prior to saving to suppress this warning.\n",
      "Lossy conversion from float64 to uint8. Range [-2048.0, 1595.0]. Convert image to uint8 prior to saving to suppress this warning.\n",
      "Lossy conversion from float64 to uint8. Range [-2048.0, 1377.0]. Convert image to uint8 prior to saving to suppress this warning.\n"
     ]
    },
    {
     "name": "stdout",
     "output_type": "stream",
     "text": [
      "Original nii shape:  (512, 512, 61)\n"
     ]
    },
    {
     "name": "stderr",
     "output_type": "stream",
     "text": [
      "Lossy conversion from float64 to uint8. Range [-2048.0, 1257.0]. Convert image to uint8 prior to saving to suppress this warning.\n",
      "Lossy conversion from float64 to uint8. Range [-2048.0, 1234.0]. Convert image to uint8 prior to saving to suppress this warning.\n",
      "Lossy conversion from float64 to uint8. Range [-2048.0, 1361.0]. Convert image to uint8 prior to saving to suppress this warning.\n",
      "Lossy conversion from float64 to uint8. Range [-2048.0, 1399.0]. Convert image to uint8 prior to saving to suppress this warning.\n",
      "Lossy conversion from float64 to uint8. Range [-2048.0, 1257.0]. Convert image to uint8 prior to saving to suppress this warning.\n"
     ]
    }
   ],
   "source": [
    "import os\n",
    "import nibabel as nib\n",
    "from skimage.io import imsave\n",
    "\n",
    "img = nib.load('./Data/task_1/volume-covid19-A-0025.nii')\n",
    "# I prefer work on my local PC, if check on the server please change to the server path\n",
    "\n",
    "data = img.get_fdata()\n",
    "print(\"Original nii shape: \", data.shape)\n",
    "\n",
    "slices = data[:,:,20:30]\n",
    "# save each as separate png file\n",
    "\n",
    "os.makedirs(\"./Data/task_1/slices_original\", exist_ok=True)\n",
    "for i in range(10):\n",
    "    imsave(r'./Data/task_1/slices_original/volume-covid19-A-0025_slice' + str(i+20) + '.png', slices[:,:,i])"
   ]
  },
  {
   "cell_type": "markdown",
   "id": "e2fba62d",
   "metadata": {},
   "source": [
    "#### Conduct the following operations on each image (slice):\n",
    "- For each image, for every pixel value that is less than -1000, make it -1000\n",
    "- For each image, for every pixel value that is greater than 500, make it 500\n",
    "- Perform histogram equalization for each image, then further normalize the pixel values to range\n",
    "between -1 and 1.\n",
    "- Compute the mean and standard deviation pixel intensity for each image.\n",
    "- Sort the means in ascending order and report 10 values (mean & SD) with the slice ID (slice 20,\n",
    "slice 21 ….)."
   ]
  },
  {
   "cell_type": "code",
   "execution_count": 14,
   "id": "8377dd371b4c1732",
   "metadata": {
    "collapsed": false
   },
   "outputs": [
    {
     "name": "stdout",
     "output_type": "stream",
     "text": [
      "Slice ID\tMean\t\tStandard Deviation\n",
      "28\t\t-0.404834\t0.664129\n",
      "27\t\t-0.403239\t0.664496\n",
      "29\t\t-0.403013\t0.664193\n",
      "25\t\t-0.398885\t0.665579\n",
      "26\t\t-0.398056\t0.665330\n",
      "24\t\t-0.393906\t0.666159\n",
      "23\t\t-0.390533\t0.666207\n",
      "22\t\t-0.387724\t0.666181\n",
      "20\t\t-0.382430\t0.666253\n",
      "21\t\t-0.381050\t0.666294\n"
     ]
    }
   ],
   "source": [
    "import numpy as np\n",
    "from skimage import exposure\n",
    "\n",
    "report = []\n",
    "\n",
    "for sliceid in range(slices.shape[2]):\n",
    "    slice_data = slices[:,:,sliceid]\n",
    "\n",
    "    # For each image, for every pixel value that is less than -1000, make it -1000\n",
    "    slice_data[slice_data < -1000] = -1000\n",
    "\n",
    "    # For each image, for every pixel value that is greater than 500, make it 500\n",
    "    slice_data[slice_data > 500] = 500\n",
    "\n",
    "    # Perform histogram equalization for each image\n",
    "    equalized_slice = exposure.equalize_hist(slice_data)\n",
    "\n",
    "    # Normalize the pixel values to range between -1 and 1\n",
    "    normalized_slice = (equalized_slice - np.min(equalized_slice)) / (np.max(equalized_slice) - np.min(equalized_slice)) * 2 - 1\n",
    "\n",
    "    # Compute the mean and standard deviation pixel intensity for each image\n",
    "    report.append({\"mean\": np.mean(normalized_slice), \"std\": np.std(normalized_slice), \"slice_id\": 20 + sliceid})\n",
    "\n",
    "# Sort the means in ascending order\n",
    "sorted_means = np.sort([r[\"mean\"] for r in report])\n",
    "\n",
    "# Report 10 values (mean & SD) with the slice ID as a table\n",
    "print(\"Slice ID\\tMean\\t\\tStandard Deviation\")\n",
    "for i in range(10):\n",
    "    for r in report:\n",
    "        if r[\"mean\"] == sorted_means[i]:\n",
    "            print(f\"{r['slice_id']}\\t\\t{r['mean']:.6f}\\t{r['std']:.6f}\")\n",
    "            break\n"
   ]
  }
 ],
 "metadata": {
  "kernelspec": {
   "display_name": "Python 3",
   "language": "python",
   "name": "python3"
  },
  "language_info": {
   "codemirror_mode": {
    "name": "ipython",
    "version": 3
   },
   "file_extension": ".py",
   "mimetype": "text/x-python",
   "name": "python",
   "nbconvert_exporter": "python",
   "pygments_lexer": "ipython3",
   "version": "3.9.18"
  }
 },
 "nbformat": 4,
 "nbformat_minor": 5
}
